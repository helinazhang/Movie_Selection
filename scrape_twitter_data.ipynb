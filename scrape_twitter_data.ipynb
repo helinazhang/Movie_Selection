{
 "cells": [
  {
   "cell_type": "code",
   "execution_count": 19,
   "metadata": {},
   "outputs": [],
   "source": [
    "import tweepy\n",
    "from tweepy.streaming import StreamListener\n",
    "from tweepy import OAuthHandler\n",
    "from tweepy import Stream\n",
    "import time"
   ]
  },
  {
   "cell_type": "code",
   "execution_count": 2,
   "metadata": {},
   "outputs": [],
   "source": [
    "# https://dev.twitter.com/apps/new and go to API Keys\n",
    "access_token = \"\"\n",
    "access_token_secret = \"\"\n",
    "consumer_key = \"\"\n",
    "consumer_secret = \"\""
   ]
  },
  {
   "cell_type": "code",
   "execution_count": 23,
   "metadata": {},
   "outputs": [],
   "source": [
    "# StreamListener class inherits from tweepy.StreamListener and overrides on_status/on_error methods.\n",
    "class StreamListener(tweepy.StreamListener):\n",
    "    def __init__(self, time_limit=60):\n",
    "        self.start_time = time.time()\n",
    "        self.limit = time_limit\n",
    "        self.saveFile = open('outfile.json', 'a')\n",
    "        super(StreamListener, self).__init__()\n",
    "\n",
    "    def on_data(self, data):\n",
    "        if (time.time() - self.start_time) < self.limit:\n",
    "            self.saveFile.write(data)\n",
    "            self.saveFile.write('\\n')\n",
    "            return True\n",
    "        else:\n",
    "            self.saveFile.close()\n",
    "            return False\n",
    "\n"
   ]
  },
  {
   "cell_type": "code",
   "execution_count": 24,
   "metadata": {},
   "outputs": [
    {
     "name": "stdout",
     "output_type": "stream",
     "text": [
      "20.4 s ± 112 ms per loop (mean ± std. dev. of 7 runs, 1 loop each)\n"
     ]
    }
   ],
   "source": [
    "%%timeit\n",
    "#This handles Twitter authetification and the connection to Twitter Streaming API\n",
    "# complete authorization and initialize API endpoint\n",
    "auth = tweepy.OAuthHandler(consumer_key, consumer_secret)\n",
    "auth.set_access_token(access_token, access_token_secret)\n",
    "api = tweepy.API(auth)\n",
    "\n",
    "# initialize stream\n",
    "\n",
    "stream = tweepy.Stream(auth=api.auth, listener=StreamListener(time_limit=20))\n",
    "\n",
    "movie_data =['Joker','Shoplifters','Toy Story 4','Avengers: Endgame','Doctor Sleep','Zombieland: Double Tap','Official Secret','Once Upon a Time in Hollywood','Spider-Man: Far From Home','Rocketman','Avengers','Doctor','Zombieland','Endgame','Sleep','Double Tap','Spider-Man','Far From Home']\n",
    "\n",
    "#Full list\n",
    " #movie_data =['Joker','Shoplifters','Toy Story 4','Avengers: Endgame','Doctor Sleep','Zombieland: Double Tap','Official Secret','Once Upon a Time in Hollywood','Spider-Man: Far From Home','Rocketman','Avengers','Doctor','Zombieland','Endgame','Sleep','Double Tap','Spider-Man','Far From Home',\n",
    "#'Joaquin Phoenix','Zazie Beetz','Robert De Niro','Bryan Callen','Shea Whigham','Lily Franky','Sakura Ando','Mayu Matsuoka','Kirin Kiki','Jyo Kairi','Tom Hanks','Patricia Arquette','Tim Allen','Joan Cusack','Bonnie Hunt','Robert Downey Jr.','Chris Evans','Mark Ruffalo','Chris Hemsworth','Scarlett Johansson','Rebecca Ferguson','Ewan McGregor','Jacob Tremblay','Cliff Curtis','Carel Struycken','emma stone','Abigail Breslin','Woody Harrelson','Jesse Eisenberg','Zoey Deutch','Matthew Goode','Indira Varma','Keira Knightley','Katherine Kelly','Ralph Fiennes','Leonardo DiCaprio','Luke Perry','Margot Robbie','Brad Pitt','Margaret Qualley','Samuel L. Jackson','Zendaya','Tom Holland','Jake Gyllenhaal','Michael Keaton','Bryce Dallas Howard','Richard Madden','Taron Egerton','Jamie Bell','Steven Mackintosh'\n",
    "# ]\n",
    "stream.filter(track=movie_data)"
   ]
  },
  {
   "cell_type": "code",
   "execution_count": null,
   "metadata": {},
   "outputs": [],
   "source": []
  }
 ],
 "metadata": {
  "kernelspec": {
   "display_name": "Python 3",
   "language": "python",
   "name": "python3"
  },
  "language_info": {
   "codemirror_mode": {
    "name": "ipython",
    "version": 3
   },
   "file_extension": ".py",
   "mimetype": "text/x-python",
   "name": "python",
   "nbconvert_exporter": "python",
   "pygments_lexer": "ipython3",
   "version": "3.7.4"
  }
 },
 "nbformat": 4,
 "nbformat_minor": 2
}
